{
 "cells": [
  {
   "cell_type": "code",
   "execution_count": null,
   "metadata": {},
   "outputs": [],
   "source": [
    "Simple random sampling\r\n",
    "The simplest method of sampling a population is the one you've seen already. It is known as simple random sampling (sometimes abbreviated to \"SRS\"), and involves picking rows at random, one at a time, where each row has the same chance of being picked as any other.\r\n",
    "\r\n",
    "In this chapter, you'll apply sampling methods to a synthetic (fictional) employee attrition dataset from IBM, where \"attrition\" in this context means leaving the company.\r\n",
    "\r\n",
    "attrition_pop is available; pandas as pd is loaded.\r\n",
    "\r\n",
    "Instructions\r\n",
    "100 XP\r\n",
    "Sample 70 rows from attrition_pop using simple random sampling, setting the random seed to 18900217.\r\n",
    "Print the sample dataset, attrition_samp. What do you notice about the indices?"
   ]
  },
  {
   "cell_type": "code",
   "execution_count": null,
   "metadata": {},
   "outputs": [],
   "source": [
    "# Sample 70 rows using simple random sampling and set the seed\r\n",
    "attrition_samp = attrition_pop.sample(n=70,random_state=18900217)\r\n",
    "\r\n",
    "# Print the sample\r\n",
    "print(attrition_samp)"
   ]
  },
  {
   "cell_type": "markdown",
   "metadata": {},
   "source": [
    "<script.py> output:\r\n",
    "          Age  Attrition     BusinessTravel  DailyRate            Department  ...  WorkLifeBalance YearsAtCompany YearsInCurrentRole YearsSinceLastPromotion YearsWithCurrManager\r\n",
    "    1134   35        0.0      Travel_Rarely        583  Research_Development  ...             Good             16                 10                      10                    1\r\n",
    "    1150   52        0.0         Non-Travel        585                 Sales  ...             Good              9                  8                       0                    0\r\n",
    "    531    33        0.0      Travel_Rarely        931  Research_Development  ...           Better              8                  7                       1                    6\r\n",
    "    395    31        0.0      Travel_Rarely       1332  Research_Development  ...             Good              6                  5                       0                    1\r\n",
    "    392    29        0.0      Travel_Rarely        942  Research_Development  ...             Good              5                  4                       1                    3\r\n",
    "    ...   ...        ...                ...        ...                   ...  ...              ...            ...                ...                     ...                  ...\r\n",
    "    361    27        0.0  Travel_Frequently       1410                 Sales  ...           Better              6                  5                       0                    4\r\n",
    "    1180   36        0.0      Travel_Rarely        530                 Sales  ...             Good             13                  7                       6                    7\r\n",
    "    230    26        0.0      Travel_Rarely       1443                 Sales  ...             Good              2                  2                       0                    0\r\n",
    "    211    29        0.0  Travel_Frequently        410  Research_Development  ...           Better              3                  2                       0                    2\r\n",
    "    890    30        0.0  Travel_Frequently       1312  Research_Development  ...           Better              9                  7                       0                    7\r\n",
    "    \r\n",
    "    [70 rows x 31 columns]"
   ]
  },
  {
   "cell_type": "markdown",
   "metadata": {},
   "source": [
    "Systematic sampling\r\n",
    "One sampling method that avoids randomness is called systematic sampling. Here, you pick rows from the population at regular intervals.\r\n",
    "\r\n",
    "For example, if the population dataset had one thousand rows, and you wanted a sample size of five, you could pick rows 0, 200, 400, 600, and 800.\r\n",
    "\r\n",
    "attrition_pop is available; pandas has been pre-loaded as pd.\r\n",
    "\r\n",
    "Instructions 1/2\r\n",
    "50 XP\r\n",
    "Set the sample size to 70.\r\n",
    "Calculate the population size from attrition_pop.\r\n",
    "Calculate the interval between the rows to be sampled"
   ]
  },
  {
   "cell_type": "code",
   "execution_count": null,
   "metadata": {},
   "outputs": [],
   "source": [
    "# Set the sample size to 70\r\n",
    "sample_size = 70\r\n",
    "\r\n",
    "# Calculate the population size from attrition_pop\r\n",
    "pop_size = len(attrition_pop)\r\n",
    "\r\n",
    "# Calculate the interval\r\n",
    "interval =pop_size// sample_size\r\n",
    "\r\n",
    "# Systematically sample 70 rows\r\n",
    "attrition_sys_samp = attrition_pop.iloc[::interval]\r\n",
    "\r\n",
    "# Print the sample\r\n",
    "print(attrition_sys_samp)"
   ]
  },
  {
   "cell_type": "markdown",
   "metadata": {},
   "source": [
    "Is systematic sampling OK?\r\n",
    "Systematic sampling has a problem: if the data has been sorted, or there is some sort of pattern or meaning behind the row order, then the resulting sample may not be representative of the whole population. The problem can be solved by shuffling the rows, but then systematic sampling is equivalent to simple random sampling.\r\n",
    "\r\n",
    "Here you'll look at how to determine whether or not there is a problem.\r\n",
    "\r\n",
    "attrition_pop is available; pandas is loaded as pd, and matplotlib.pyplot as plt.\r\n",
    "\r\n",
    "Instructions 1/3\r\n",
    "1 XP\r\n",
    "Add an index column to attrition_pop, assigning the result to attrition_pop_id.\r\n",
    "Create a scatter plot of YearsAtCompany versus index for attrition_pop_id using pandas .plot()."
   ]
  },
  {
   "cell_type": "code",
   "execution_count": null,
   "metadata": {},
   "outputs": [],
   "source": [
    "# Add an index column to attrition_pop\r\n",
    "attrition_pop_id = attrition_pop.reset_index()\r\n",
    "\r\n",
    "# Plot YearsAtCompany vs. index for attrition_pop_id\r\n",
    "attrition_pop_id.plot(x=\"index\", y=\"YearsAtCompany\", kind=\"scatter\")\r\n",
    "plt.show()"
   ]
  },
  {
   "cell_type": "markdown",
   "metadata": {},
   "source": [
    "Randomly shuffle the rows of attrition_pop.\r\n",
    "Reset the row indexes, and add an index column to attrition_pop.\r\n",
    "Repeat the scatter plot of YearsAtCompany versus index, this time using attrition_shuffled."
   ]
  },
  {
   "cell_type": "code",
   "execution_count": null,
   "metadata": {},
   "outputs": [],
   "source": [
    "# Shuffle the rows of attrition_pop\r\n",
    "attrition_shuffled = attrition_pop.sample(frac=1)\r\n",
    "\r\n",
    "# Reset the row indexes and create an index column\r\n",
    "attrition_shuffled = attrition_shuffled.reset_index(drop=True).reset_index()\r\n",
    "\r\n",
    "# Plot YearsAtCompany vs. index for attrition_shuffled\r\n",
    "attrition_shuffled.plot(x=\"index\", y=\"YearsAtCompany\", kind=\"scatter\")\r\n",
    "plt.show()"
   ]
  },
  {
   "cell_type": "markdown",
   "metadata": {},
   "source": [
    "Question\r\n",
    "Does a systematic sample always produce a sample similar to a simple random sample?\r\n",
    "\r\n",
    "Possible Answers\r\n",
    "\r\n",
    "Yes. All sampling (random or non-random) methods will lead us to similar results.\r\n",
    "\r\n",
    "Yes. We should always expect a representative sample for both systematic and simple random sampling.\r\n",
    "\r\n",
    "No. This only holds if a seed has been set for both processes.\r\n",
    "\r\n",
    "No. This is not true if the data is sorted in some way.- is the correct option"
   ]
  },
  {
   "cell_type": "markdown",
   "metadata": {},
   "source": [
    "Proportional stratified sampling\r\n",
    "If you are interested in subgroups within the population, then you may need to carefully control the counts of each subgroup within the population. Proportional stratified sampling results in subgroup sizes within the sample that are representative of the subgroup sizes within the population. It is equivalent to performing a simple random sample on each subgroup.\r\n",
    "\r\n",
    "attrition_pop is available; pandas is loaded with its usual alias.\r\n",
    "\r\n",
    "Instructions 3/3\r\n",
    "21 XP\r\n",
    "Get the proportion of employees by Education level from attrition_strat."
   ]
  },
  {
   "cell_type": "code",
   "execution_count": null,
   "metadata": {},
   "outputs": [],
   "source": [
    "# Proportion of employees by Education level\r\n",
    "education_counts_pop = attrition_pop['Education'].value_counts(normalize=True)\r\n",
    "\r\n",
    "# Print education_counts_pop\r\n",
    "print(education_counts_pop)\r\n",
    "\r\n",
    "# Proportional stratified sampling for 40% of each Education group\r\n",
    "attrition_strat = attrition_pop.groupby('Education')\\\r\n",
    "\t.sample(frac=0.4, random_state=2022)\r\n",
    "\r\n",
    "# Calculate the Education level proportions from attrition_strat\r\n",
    "education_counts_strat = attrition_strat['Education'].value_counts(normalize=True)\r\n",
    "\r\n",
    "# Print education_counts_strat\r\n",
    "print(education_counts_strat)"
   ]
  },
  {
   "cell_type": "markdown",
   "metadata": {},
   "source": [
    "Equal counts stratified sampling\r\n",
    "If one subgroup is larger than another subgroup in the population, but you don't want to reflect that difference in your analysis, then you can use equal counts stratified sampling to generate samples where each subgroup has the same amount of data. For example, if you are analyzing blood types, O is the most common blood type worldwide, but you may wish to have equal amounts of O, A, B, and AB in your sample.\r\n",
    "\r\n",
    "attrition_pop is available; pandas is loaded with its usual alias.\r\n",
    "\r\n",
    "Instructions 1/2\r\n",
    "50 XP\r\n",
    "Use equal counts stratified sampling on attrition_pop to get 30 employees from each Education group, setting the seed to 2022.\r\n",
    "Get the proportion of employees by Education level from attrition_eq"
   ]
  },
  {
   "cell_type": "code",
   "execution_count": null,
   "metadata": {},
   "outputs": [],
   "source": [
    "# Get 30 employees from each Education group\r\n",
    "attrition_eq = attrition_pop.groupby('Education')\\\r\n",
    "\t.sample(n=30, random_state=2022)      \r\n",
    "\r\n",
    "# Get the proportions from attrition_eq\r\n",
    "education_counts_eq = attrition_eq['Education'].value_counts(normalize=True)\r\n",
    "\r\n",
    "# Print the results\r\n",
    "print(education_counts_eq)"
   ]
  },
  {
   "cell_type": "markdown",
   "metadata": {},
   "source": [
    "Weighted sampling\r\n",
    "Stratified sampling provides rules about the probability of picking rows from your dataset at the subgroup level. A generalization of this is weighted sampling, which lets you specify rules about the probability of picking rows at the row level. The probability of picking any given row is proportional to the weight value for that row.\r\n",
    "\r\n",
    "attrition_pop is available; pandas, matplotlib.pyplot, and numpy are loaded with their usual aliases.\r\n",
    "\r\n",
    "Instructions 1/4\r\n",
    "1 XP\r\n",
    "Plot YearsAtCompany from attrition_pop as a histogram with bins of width 1 from 0 to 40"
   ]
  },
  {
   "cell_type": "code",
   "execution_count": null,
   "metadata": {},
   "outputs": [],
   "source": [
    "# Plot YearsAtCompany from attrition_pop as a histogram\r\n",
    "attrition_pop['YearsAtCompany'].hist(bins=np.arange(0, 41, 1))\r\n",
    "plt.show()"
   ]
  },
  {
   "cell_type": "markdown",
   "metadata": {},
   "source": [
    "Sample 400 employees from attrition_pop weighted by YearsAtCompany"
   ]
  },
  {
   "cell_type": "code",
   "execution_count": null,
   "metadata": {},
   "outputs": [],
   "source": [
    "# Plot YearsAtCompany from attrition_pop as a histogram\r\n",
    "attrition_pop['YearsAtCompany'].hist(bins=np.arange(0, 41, 1))\r\n",
    "plt.show()\r\n",
    "\r\n",
    "# Sample 400 employees weighted by YearsAtCompany\r\n",
    "attrition_weight = attrition_pop.sample(n=400, weights=\"YearsAtCompany\")\r\n",
    "\r\n",
    "# Print the sample\r\n",
    "print(attrition_weight)"
   ]
  },
  {
   "cell_type": "code",
   "execution_count": null,
   "metadata": {},
   "outputs": [],
   "source": [
    "Plot YearsAtCompany from attrition_weight as a histogram with bins of width 1 from 0 to 40."
   ]
  },
  {
   "cell_type": "code",
   "execution_count": null,
   "metadata": {},
   "outputs": [],
   "source": [
    "# Plot YearsAtCompany from attrition_weight as a histogram\r\n",
    "attrition_weight['YearsAtCompany'].hist(bins=np.arange(0, 41, 1))\r\n",
    "plt.show()"
   ]
  },
  {
   "cell_type": "markdown",
   "metadata": {},
   "source": [
    "Question\r\n",
    "Which is higher? The mean YearsAtCompany from attrition_pop or the mean YearsAtCompany from attrition_weight?\r\n",
    "\r\n",
    "Possible Answers\r\n",
    "\r\n",
    "Population mean.\r\n",
    "\r\n",
    "Both means are identical.\r\n",
    "\r\n",
    "Sample mean.- is the correct option\r\n",
    "\r\n",
    "It is impossible to calculate the two means."
   ]
  },
  {
   "cell_type": "markdown",
   "metadata": {},
   "source": [
    "Benefits of clustering\r\n",
    "Cluster sampling is a two-stage sampling technique that is closely related to stratified sampling. First, you randomly sample which subgroups to include in the sample, then randomly sample rows within each subgroup.\r\n",
    "\r\n",
    "In which of the following situations would cluster sampling be preferable to stratified sampling?\r\n",
    "\r\n",
    "Answer the question\r\n",
    "50XP\r\n",
    "Possible Answers\r\n",
    "\r\n",
    "The interest is on ensuring each rare group will be represented in the sample selected.\r\n",
    "press\r\n",
    "1 \r\n",
    "\r\n",
    "Cost is not a limitation, and time can be spent carefully sampling from each group in the population.\r\n",
    "press\r\n",
    "2\r\n",
    "\r\n",
    "Collecting an overall sample requires lots of travel from one group to another to collect samples within each group.\r\n",
    "press\r\n",
    "3 - correct option\r\n",
    "\r\n",
    "The focus is on comparing particular subgroups within the population."
   ]
  },
  {
   "cell_type": "markdown",
   "metadata": {},
   "source": [
    "Performing cluster sampling\r\n",
    "Now that you know when to use cluster sampling, it's time to put it into action. In this exercise, you'll explore the JobRole column of the attrition dataset. You can think of each job role as a subgroup of the whole population of employees.\r\n",
    "\r\n",
    "attrition_pop is available; pandas is loaded with its usual alias, and the random package is available. A seed of 19790801 has also been set with random.seed().\r\n",
    "\r\n",
    "Instructions 1/3\r\n",
    "35 XP\r\n",
    "Create a list of unique JobRole values from attrition_pop, and assign to job_roles_pop.\r\n",
    "Randomly sample four JobRole values from job_roles_pop."
   ]
  },
  {
   "cell_type": "code",
   "execution_count": null,
   "metadata": {},
   "outputs": [],
   "source": [
    "# Create a list of unique JobRole values\r\n",
    "job_roles_pop = list(attrition_pop['JobRole'].unique())\r\n",
    "\r\n",
    "# Randomly sample four JobRole values\r\n",
    "job_roles_samp =random.sample(job_roles_pop,k=4)\r\n",
    "\r\n",
    "# Print the result\r\n",
    "print(job_roles_samp)"
   ]
  },
  {
   "cell_type": "markdown",
   "metadata": {},
   "source": [
    "Subset attrition_pop for the sampled job roles by filtering for rows where JobRole is in job_roles_samp."
   ]
  },
  {
   "cell_type": "code",
   "execution_count": null,
   "metadata": {},
   "outputs": [],
   "source": [
    "# Filter for rows where JobRole is in job_roles_samp\r\n",
    "jobrole_condition = attrition_pop['JobRole'].isin(job_roles_samp)\r\n",
    "attrition_filtered = attrition_pop[jobrole_condition]\r\n",
    "\r\n",
    "# Print the result\r\n",
    "print(attrition_filtered)"
   ]
  },
  {
   "cell_type": "markdown",
   "metadata": {},
   "source": [
    "Remove any unused categories from JobRole.\r\n",
    "For each job role in the filtered dataset, take a random sample of ten rows, setting the seed to 2022."
   ]
  },
  {
   "cell_type": "code",
   "execution_count": null,
   "metadata": {},
   "outputs": [],
   "source": [
    "# Remove categories with no rows\r\n",
    "attrition_filtered['JobRole'] = attrition_filtered['JobRole'].cat.remove_unused_categories()\r\n",
    "\r\n",
    "# Randomly sample 10 employees from each sampled job role\r\n",
    "attrition_clust = attrition_filtered.groupby(\"JobRole\")\\\r\n",
    "    .sample(n=10, random_state=2022)\r\n",
    "\r\n",
    "# Print the sample\r\n",
    "print(attrition_clust)      "
   ]
  },
  {
   "cell_type": "markdown",
   "metadata": {},
   "source": [
    "3 kinds of sampling\r\n",
    "You're going to compare the performance of point estimates using simple, stratified, and cluster sampling. Before doing that, you'll have to set up the samples.\r\n",
    "\r\n",
    "You'll use the RelationshipSatisfaction column of the attrition_pop dataset, which categorizes the employee's relationship with the company. It has four levels: Low, Medium, High, and Very_High. pandas has been loaded with its usual alias, and the random package has been loaded.\r\n",
    "\r\n",
    "Instructions 3/3\r\n",
    "0 XP\r\n",
    "Instructions 3/3\r\n",
    "0 XP\r\n",
    "Perform simple random sampling on attrition_pop to get one-quarter of the population, setting the seed to 2022.\r\n",
    "Perform stratified sampling on attrition_pop to sample one-quarter of each RelationshipSatisfaction group, setting the seed to 2022.\r\n",
    "Create a list of unique values from attrition_pop's RelationshipSatisfaction column.\r\n",
    "Randomly sample satisfaction_unique to get two values.\r\n",
    "Subset the population for rows where RelationshipSatisfaction is in satisfaction_samp and clear any unused categories from RelationshipSatisfaction; assign to attrition_clust_prep.\r\n",
    "Perform cluster sampling on the selected satisfaction groups, sampling one quarter of the population and setting the seed to 2022."
   ]
  },
  {
   "cell_type": "code",
   "execution_count": null,
   "metadata": {},
   "outputs": [],
   "source": [
    "# Create a list of unique RelationshipSatisfaction values\r\n",
    "satisfaction_unique = list(attrition_pop['RelationshipSatisfaction'].unique())\r\n",
    "\r\n",
    "# Randomly sample 2 unique satisfaction values\r\n",
    "satisfaction_samp = random.sample(satisfaction_unique, k=2)\r\n",
    "\r\n",
    "# Filter for satisfaction_samp and clear unused categories from RelationshipSatisfaction\r\n",
    "satis_condition = attrition_pop['RelationshipSatisfaction'].isin(satisfaction_samp)\r\n",
    "attrition_clust_prep = attrition_pop[satis_condition]\r\n",
    "attrition_clust_prep['RelationshipSatisfaction'] = attrition_clust_prep['RelationshipSatisfaction'].cat.remove_unused_categories()\r\n",
    "\r\n",
    "# Perform cluster sampling on the selected group, getting 0.25 of attrition_pop\r\n",
    "attrition_clust = attrition_clust_prep.groupby(\"RelationshipSatisfaction\")\\\r\n",
    "    .sample(n=len(attrition_pop) // 4, random_state=2022)"
   ]
  },
  {
   "cell_type": "markdown",
   "metadata": {},
   "source": [
    "Comparing point estimates\r\n",
    "Now that you have three types of sample (simple, stratified, and cluster), you can compare point estimates from each sample to the population parameter. That is, you can calculate the same summary statistic on each sample and see how it compares to the summary statistic for the population.\r\n",
    "\r\n",
    "Here, we'll look at how satisfaction with the company affects whether or not the employee leaves the company. That is, you'll calculate the proportion of employees who left the company (they have an Attrition value of 1) for each value of RelationshipSatisfaction.\r\n",
    "\r\n",
    "attrition_pop, attrition_srs, attrition_strat, and attrition_clust are available; pandas is loaded with its usual alias.\r\n",
    "\r\n",
    "Instructions 1/4\r\n",
    "18 XP\r\n",
    "Group attrition_pop by RelationshipSatisfaction levels and calculate the mean of Attrition for each level."
   ]
  },
  {
   "cell_type": "code",
   "execution_count": null,
   "metadata": {},
   "outputs": [],
   "source": [
    "# Mean Attrition by RelationshipSatisfaction group\r\n",
    "mean_attrition_pop = attrition_pop.groupby('RelationshipSatisfaction')['Attrition'].mean()\r\n",
    "\r\n",
    "# Print the result\r\n",
    "print(mean_attrition_pop)"
   ]
  },
  {
   "cell_type": "markdown",
   "metadata": {},
   "source": [
    "Calculate the proportion of employee attrition for each relationship satisfaction group, this time on the simple random sample, attrition_srs."
   ]
  },
  {
   "cell_type": "code",
   "execution_count": null,
   "metadata": {},
   "outputs": [],
   "source": [
    "# Calculate the same thing for the simple random sample \r\n",
    "mean_attrition_srs = attrition_srs.groupby('RelationshipSatisfaction')['Attrition'].mean()\r\n",
    "\r\n",
    "# Print the result\r\n",
    "print(mean_attrition_srs)"
   ]
  },
  {
   "cell_type": "markdown",
   "metadata": {},
   "source": [
    "Calculate the proportion of employee attrition for each relationship satisfaction group, this time on the stratified sample, attrition_strat"
   ]
  },
  {
   "cell_type": "code",
   "execution_count": null,
   "metadata": {},
   "outputs": [],
   "source": [
    "# Calculate the same thing for the stratified sample \r\n",
    "mean_attrition_strat = attrition_strat.groupby('RelationshipSatisfaction')['Attrition'].mean()\r\n",
    "\r\n",
    "# Print the result\r\n",
    "print(mean_attrition_strat)"
   ]
  },
  {
   "cell_type": "markdown",
   "metadata": {},
   "source": [
    "Calculate the proportion of employee attrition for each relationship satisfaction group, this time on the cluster sample, attrition_clust."
   ]
  },
  {
   "cell_type": "code",
   "execution_count": null,
   "metadata": {},
   "outputs": [],
   "source": [
    "# Calculate the same thing for the cluster sample \r\n",
    "mean_attrition_clust = attrition_clust.groupby('RelationshipSatisfaction')['Attrition'].mean()\r\n",
    "\r\n",
    "# Print the result\r\n",
    "print(mean_attrition_clust)"
   ]
  },
  {
   "cell_type": "markdown",
   "metadata": {},
   "source": []
  }
 ],
 "metadata": {
  "language_info": {
   "name": "python",
   "nbconvert_exporter": "python"
  },
  "orig_nbformat": 4
 },
 "nbformat": 4,
 "nbformat_minor": 2
}