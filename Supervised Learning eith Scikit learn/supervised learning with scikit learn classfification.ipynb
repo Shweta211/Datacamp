{
 "cells": [
  {
   "cell_type": "markdown",
   "metadata": {},
   "source": [
    "Binary classification\r\n",
    "In the video, you saw that there are two types of supervised learning — classification and regression. Recall that binary classification is used to predict a target variable that has only two labels, typically represented numerically with a zero or a one.\r\n",
    "\r\n",
    "A dataset, churn_df, has been preloaded for you in the console.\r\n",
    "\r\n",
    "Your task is to examine the data and choose which column could be the target variable for binary classification.\r\n",
    "\r\n",
    "Instructions\r\n",
    "50 XP\r\n",
    "Possible Answers\r\n",
    "\r\n",
    "\"customer_service_calls\"\r\n",
    "\r\n",
    "\"total_night_charge\"\r\n",
    "\r\n",
    "\"churn\" : correct\r\n",
    "\r\n",
    "\"account_length\""
   ]
  },
  {
   "cell_type": "markdown",
   "metadata": {},
   "source": [
    "k-Nearest Neighbors: Fit\r\n",
    "In this exercise, you will build your first classification model using the churn_df dataset, which has been preloaded for the remainder of the chapter.\r\n",
    "\r\n",
    "The features to use will be \"account_length\" and \"customer_service_calls\". The target, \"churn\", needs to be a single column with the same number of observations as the feature data.\r\n",
    "\r\n",
    "You will convert the features and the target variable into NumPy arrays, create an instance of a KNN classifier, and then fit it to the data.\r\n",
    "\r\n",
    "numpy has also been preloaded for you as np.\r\n",
    "\r\n",
    "Instructions\r\n",
    "100 XP\r\n",
    "Import KNeighborsClassifier from sklearn.neighbors.\r\n",
    "Create an array called X containing values from the \"account_length\" and \"customer_service_calls\" columns, and an array called y for the values of the \"churn\" column.\r\n",
    "Instantiate a KNeighborsClassifier called knn with 6 neighbors.\r\n",
    "Fit the classifier to the data using the .fit() method."
   ]
  },
  {
   "cell_type": "code",
   "execution_count": null,
   "metadata": {},
   "outputs": [],
   "source": [
    "# Import KNeighborsClassifier\r\n",
    "from sklearn.neighbors import KNeighborsClassifier \r\n",
    "\r\n",
    "# Create arrays for the features and the target variable\r\n",
    "y = churn_df[\"churn\"].values\r\n",
    "X = churn_df[[\"account_length\", \"customer_service_calls\"]].values\r\n",
    "\r\n",
    "# Create a KNN classifier with 6 neighbors\r\n",
    "knn = KNeighborsClassifier(6)\r\n",
    "\r\n",
    "# Fit the classifier to the data\r\n",
    "knn.fit(X,y)"
   ]
  },
  {
   "cell_type": "markdown",
   "metadata": {},
   "source": [
    "Train/test split + computing accuracy\r\n",
    "Now that you have learned about the importance of splitting your data into training and test sets, it's time to practice doing this on the churn_df dataset!\r\n",
    "\r\n",
    "NumPy arrays have been created for you containing the features as X and the target variable as y. You will split them into training and test sets, fit a KNN classifier to the training data, and then compute its accuracy on the test data using the .score() method.\r\n",
    "\r\n",
    "Instructions\r\n",
    "100 XP\r\n",
    "Import train_test_split from sklearn.model_selection.\r\n",
    "Split X and y into training and test sets, setting test_size equal to 20%, random_state to 42, and ensuring the target label proportions reflect that of the original dataset.\r\n",
    "Fit the knn model to the training data.\r\n",
    "Compute and print the model's accuracy for the test data."
   ]
  },
  {
   "cell_type": "code",
   "execution_count": null,
   "metadata": {},
   "outputs": [],
   "source": [
    "# Import the module\r\n",
    "from sklearn.model_selection import train_test_split \r\n",
    "X = churn_df.drop(\"churn\", axis=1).values\r\n",
    "y = churn_df[\"churn\"].values\r\n",
    "\r\n",
    "# Split into training and test sets\r\n",
    "X_train, X_test, y_train, y_test = train_test_split(X,y, test_size=0.2, random_state=42, stratify=y)\r\n",
    "knn = KNeighborsClassifier(n_neighbors=5)\r\n",
    "\r\n",
    "# Fit the classifier to the training data\r\n",
    "knn.fit(X_train,y_train)\r\n",
    "\r\n",
    "# Print the accuracy\r\n",
    "print(knn.score(X_test,y_test))"
   ]
  },
  {
   "cell_type": "markdown",
   "metadata": {},
   "source": [
    "Overfitting and underfitting\r\n",
    "Interpreting model complexity is a great way to evaluate performance when utilizing supervised learning. Your aim is to produce a model that can interpret the relationship between features and the target variable, as well as generalize well when exposed to new observations.\r\n",
    "\r\n",
    "You will generate accuracy scores for the training and test sets using a KNN classifier with different n_neighbor values, which you will plot in the next exercise.\r\n",
    "\r\n",
    "The training and test sets have been created from the churn_df dataset and preloaded as X_train, X_test, y_train, and y_test.\r\n",
    "\r\n",
    "In addition, KNeighborsClassifier has been imported for you along with numpy as np.\r\n",
    "\r\n",
    "Instructions\r\n",
    "70 XP\r\n",
    "Create neighbors as a numpy array of values from 1 up to and including 12.\r\n",
    "Instantiate a KNN classifier, with the number of neighbors equal to the neighbor iterator.\r\n",
    "Fit the model to the training data.\r\n",
    "Calculate accuracy scores for the training set and test set separately using the .score() method, and assign the results to the index of the train_accuracies and test_accuracies dictionaries, respectively."
   ]
  },
  {
   "cell_type": "code",
   "execution_count": null,
   "metadata": {},
   "outputs": [],
   "source": [
    "# Create neighbors\r\n",
    "neighbors = np.arange(1,13)\r\n",
    "train_accuracies = {}\r\n",
    "test_accuracies = {}\r\n",
    "\r\n",
    "for neighbor in neighbors:\r\n",
    "  \r\n",
    "\t# Set up a KNN Classifier\r\n",
    "\tknn = KNeighborsClassifier(n_neighbors=neighbor)\r\n",
    "  \r\n",
    "\t# Fit the model\r\n",
    "\tknn.fit(X_train,y_train)\r\n",
    "  \r\n",
    "\t# Compute accuracy\r\n",
    "\ttrain_accuracies[neighbor] = knn.score(X_train, y_train)\r\n",
    "\ttest_accuracies[neighbor] = knn.score(X_test,y_test)\r\n",
    "print(neighbors, '\\n', train_accuracies, '\\n', test_accuracies)"
   ]
  },
  {
   "cell_type": "markdown",
   "metadata": {},
   "source": [
    "Visualizing model complexity\r\n",
    "Now you have calculated the accuracy of the KNN model on the training and test sets using various values of n_neighbors, you can create a model complexity curve to visualize how performance changes as the model becomes less complex!\r\n",
    "\r\n",
    "The variables neighbors, train_accuracies, and test_accuracies, which you generated in the previous exercise, have all been preloaded for you. You will plot the results to aid in finding the optimal number of neighbors for your model.\r\n",
    "\r\n",
    "Instructions\r\n",
    "100 XP\r\n",
    "Add a title \"KNN: Varying Number of Neighbors\".\r\n",
    "Plot the .values() method of train_accuracies on the y-axis against neighbors on the x-axis, with a label of \"Training Accuracy\".\r\n",
    "Plot the .values() method of test_accuracies on the y-axis against neighbors on the x-axis, with a label of \"Testing Accuracy\".\r\n",
    "Display the plot."
   ]
  },
  {
   "cell_type": "code",
   "execution_count": null,
   "metadata": {},
   "outputs": [],
   "source": [
    "# Add a title\r\n",
    "plt.title(\"KNN: Varying Number of Neighbors\")\r\n",
    "\r\n",
    "# Plot training accuracies\r\n",
    "plt.plot(neighbors, train_accuracies.values(), label=\"Training Accuracy\")\r\n",
    "\r\n",
    "# Plot test accuracies\r\n",
    "plt.plot(neighbors, test_accuracies.values(), label=\"Testing Accuracy\")\r\n",
    "\r\n",
    "plt.legend()\r\n",
    "plt.xlabel(\"Number of Neighbors\")\r\n",
    "plt.ylabel(\"Accuracy\")\r\n",
    "\r\n",
    "# Display the plot\r\n",
    "plt.show()"
   ]
  }
 ],
 "metadata": {
  "language_info": {
   "name": "python",
   "nbconvert_exporter": "python"
  },
  "orig_nbformat": 4
 },
 "nbformat": 4,
 "nbformat_minor": 2
}