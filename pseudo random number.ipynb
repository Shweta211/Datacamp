{
 "cells": [
  {
   "cell_type": "markdown",
   "metadata": {},
   "source": [
    "Generating random numbers\r\n",
    "You've used .sample() to generate pseudo-random numbers from a set of values in a DataFrame. A related task is to generate random numbers that follow a statistical distribution, like the uniform distribution or the normal distribution.\r\n",
    "\r\n",
    "Each random number generation function has distribution-specific arguments and an argument for specifying the number of random numbers to generate.\r\n",
    "\r\n",
    "matplotlib.pyplot is loaded as plt, and numpy is loaded as np."
   ]
  },
  {
   "cell_type": "markdown",
   "metadata": {},
   "source": [
    "Generate 5000 numbers from a uniform distribution, setting the parameters low to -3 and high to 3\r\n",
    "Generate 5000 numbers from a normal distribution, setting the parameters loc to 5 and scale to 2\r\n"
   ]
  },
  {
   "cell_type": "code",
   "execution_count": null,
   "metadata": {},
   "outputs": [],
   "source": [
    "# Generate random numbers from a Uniform(-3, 3)\r\n",
    "uniforms = np.random.uniform(low=-3, high=3, size=5000)\r\n",
    "normals = np.random.normal(loc=5,scale=2,size=5000)\r\n",
    "\r\n",
    "\r\n",
    "# Print normals\r\n",
    "print(normals)"
   ]
  },
  {
   "cell_type": "markdown",
   "metadata": {},
   "source": [
    "Plot a histogram of uniforms with bins of width of 0.25 from -3 to 3 using plt.hist()"
   ]
  },
  {
   "cell_type": "code",
   "execution_count": null,
   "metadata": {},
   "outputs": [],
   "source": [
    "# Generate random numbers from a Uniform(-3, 3)\r\n",
    "uniforms = np.random.uniform(low=-3, high=3, size=5000)\r\n",
    "\r\n",
    "# Plot a histogram of uniform values, binwidth 0.25\r\n",
    "plt.hist(uniforms, bins=np.arange(-3, 3.25, 0.25))\r\n",
    "plt.show()"
   ]
  },
  {
   "cell_type": "markdown",
   "metadata": {},
   "source": [
    "normals = np.random.normal(loc=5,scale=2,size=2)\r\n",
    "\r\n",
    "# Print normals\r\n",
    "print(normals)\r\n",
    "[5.565957   1.98741057]\r\n",
    "\r\n",
    "<script.py> output:\r\n",
    "    [1.96858828 5.45561711]"
   ]
  },
  {
   "cell_type": "markdown",
   "metadata": {},
   "source": [
    "#Plot a histogram of uniforms with bins of width of 0.25 from -3 to 3 using plt.hist().# Generate random numbers from a Uniform(-3, 3)\r\n",
    "uniforms = np.random.uniform(low=-3, high=3, size=5000)\r\n",
    "\r\n",
    "# Plot a histogram of uniform values, binwidth 0.25\r\n",
    "plt.hist(uniforms, bins=np.arange(-3, 3.25, 0.25))\r\n",
    "plt.show()"
   ]
  },
  {
   "cell_type": "markdown",
   "metadata": {},
   "source": [
    "Plot a histogram of normals with bins of width of 0.5 from -2 to 13 using plt.hist()."
   ]
  },
  {
   "cell_type": "code",
   "execution_count": null,
   "metadata": {},
   "outputs": [],
   "source": [
    "# Generate random numbers from a Normal(5, 2)\r\n",
    "normals = np.random.normal(loc=5, scale=2, size=5000)\r\n",
    "\r\n",
    "# Plot a histogram of normal values, binwidth 0.5\r\n",
    "plt.hist(normals, bins=np.arange(-2, 13.5, 0.5))\r\n",
    "plt.show()"
   ]
  },
  {
   "cell_type": "markdown",
   "metadata": {},
   "source": [
    "Understanding random seeds\r\n",
    "While random numbers are important for many analyses, they create a problem: the results you get can vary slightly. This can cause awkward conversations with your boss when your script for calculating the sales forecast gives different answers each time.\r\n",
    "\r\n",
    "Setting the seed for numpy's random number generator helps avoid such problems by making the random number generation reproducible.\r\n",
    "\r\n",
    "Instructions 1/3\r\n",
    "35 XP\r\n",
    "1\r\n",
    "2\r\n",
    "3\r\n",
    "Question\r\n",
    "Which statement about x and y is true?\r\n",
    "\r\n",
    "import numpy as np\r\n",
    "np.random.seed(123)\r\n",
    "x = np.random.normal(size=5)\r\n",
    "y = np.random.normal(size=5)\r\n",
    "Possible Answers\r\n",
    "\r\n",
    "x and y have identical values.\r\n",
    "\r\n",
    "The first value of x is identical to the first value of y, but other values are different.\r\n",
    "\r\n",
    "The values of x are different from those of y.\r\n",
    "\r\n",
    "Ans: x and y have identical values."
   ]
  },
  {
   "cell_type": "markdown",
   "metadata": {},
   "source": [
    "Simple random sampling\r\n",
    "The simplest method of sampling a population is the one you've seen already. It is known as simple random sampling (sometimes abbreviated to \"SRS\"), and involves picking rows at random, one at a time, where each row has the same chance of being picked as any other.\r\n",
    "\r\n",
    "In this chapter, you'll apply sampling methods to a synthetic (fictional) employee attrition dataset from IBM, where \"attrition\" in this context means leaving the company.\r\n",
    "\r\n",
    "attrition_pop is available; pandas as pd is loaded."
   ]
  },
  {
   "cell_type": "markdown",
   "metadata": {},
   "source": [
    "Sample 70 rows from attrition_pop using simple random sampling, setting the random seed to 18900217.\r\n",
    "Print the sample dataset, attrition_samp. What do you notice about the indices?"
   ]
  },
  {
   "cell_type": "code",
   "execution_count": null,
   "metadata": {},
   "outputs": [],
   "source": [
    "# Sample 70 rows using simple random sampling and set the seed\r\n",
    "attrition_samp = attrition_pop.sample(n=70,random_state=18900217)\r\n",
    "\r\n",
    "# Print the sample\r\n",
    "print(attrition_samp)"
   ]
  },
  {
   "cell_type": "markdown",
   "metadata": {},
   "source": [
    "Systematic sampling\r\n",
    "One sampling method that avoids randomness is called systematic sampling. Here, you pick rows from the population at regular intervals.\r\n",
    "\r\n",
    "For example, if the population dataset had one thousand rows, and you wanted a sample size of five, you could pick rows 0, 200, 400, 600, and 800.\r\n",
    "\r\n",
    "attrition_pop is available; pandas has been pre-loaded as pd.\r\n",
    "\r\n",
    "Instructions 1/2\r\n",
    "50 XP\r\n",
    "1\r\n",
    "2\r\n",
    "Set the sample size to 70.\r\n",
    "Calculate the population size from attrition_pop.\r\n",
    "Calculate the interval between the rows to be sampled."
   ]
  },
  {
   "cell_type": "code",
   "execution_count": null,
   "metadata": {},
   "outputs": [],
   "source": [
    "# Set the sample size to 70\r\n",
    "sample_size = 70\r\n",
    "\r\n",
    "# Calculate the population size from attrition_pop\r\n",
    "pop_size = len(attrition_pop)\r\n",
    "\r\n",
    "# Calculate the interval\r\n",
    "interval = pop_size // sample_size"
   ]
  },
  {
   "cell_type": "markdown",
   "metadata": {},
   "source": [
    "Systematically sample attrition_pop to get the rows of the population at each interval, starting at 0; assign the rows to attrition_sys_samp."
   ]
  },
  {
   "cell_type": "code",
   "execution_count": null,
   "metadata": {},
   "outputs": [],
   "source": [
    "attrition_sys_samp = attrition_pop.iloc[::interval]\r\n",
    "\r\n",
    "# Print the sample\r\n",
    "print(attrition_sys_samp)"
   ]
  },
  {
   "cell_type": "markdown",
   "metadata": {},
   "source": [
    "Is systematic sampling OK?\r\n",
    "Systematic sampling has a problem: if the data has been sorted, or there is some sort of pattern or meaning behind the row order, then the resulting sample may not be representative of the whole population. The problem can be solved by shuffling the rows, but then systematic sampling is equivalent to simple random sampling.\r\n",
    "\r\n",
    "Here you'll look at how to determine whether or not there is a problem.\r\n",
    "\r\n",
    "attrition_pop is available; pandas is loaded as pd, and matplotlib.pyplot as plt.\r\n",
    "\r\n",
    "Instructions 1/3\r\n",
    "35 XP\r\n",
    "1\r\n",
    "2\r\n",
    "3\r\n",
    "Add an index column to attrition_pop, assigning the result to attrition_pop_id.\r\n",
    "Create a scatter plot of YearsAtCompany versus index for attrition_pop_id using pandas .plot()."
   ]
  },
  {
   "cell_type": "code",
   "execution_count": null,
   "metadata": {},
   "outputs": [],
   "source": [
    "# Add an index column to attrition_pop\r\n",
    "attrition_pop_id = attrition_pop.reset_index()\r\n",
    "\r\n",
    "# Plot YearsAtCompany vs. index for attrition_pop_id\r\n",
    "attrition_pop_id.plot(x=\"index\", y=\"YearsAtCompany\", kind=\"scatter\")\r\n",
    "plt.show()"
   ]
  },
  {
   "cell_type": "markdown",
   "metadata": {},
   "source": [
    "Randomly shuffle the rows of attrition_pop.\r\n",
    "Reset the row indexes, and add an index column to attrition_pop.\r\n",
    "Repeat the scatter plot of YearsAtCompany versus index, this time using attrition_shuffled."
   ]
  },
  {
   "cell_type": "code",
   "execution_count": null,
   "metadata": {},
   "outputs": [],
   "source": [
    "# Shuffle the rows of attrition_pop\r\n",
    "attrition_shuffled = attrition_pop.sample(frac=1)\r\n",
    "\r\n",
    "# Reset the row indexes and create an index column\r\n",
    "attrition_shuffled = attrition_shuffled.reset_index(drop=True).reset_index()\r\n",
    "\r\n",
    "# Plot YearsAtCompany vs. index for attrition_shuffled\r\n",
    "attrition_shuffled.plot(x=\"index\", y=\"YearsAtCompany\", kind=\"scatter\")\r\n",
    "plt.show()"
   ]
  },
  {
   "cell_type": "markdown",
   "metadata": {},
   "source": [
    "Does a systematic sample always produce a sample similar to a simple random sample?\r\n",
    "\r\n",
    "Possible Answers\r\n",
    "\r\n",
    "Yes. All sampling (random or non-random) methods will lead us to similar results.\r\n",
    "\r\n",
    "Yes. We should always expect a representative sample for both systematic and simple random sampling.\r\n",
    "\r\n",
    "No. This only holds if a seed has been set for both processes.\r\n",
    "\r\n",
    "No. This is not true if the data is sorted in some way.\r\n",
    "Ans: This is not true if the data is sorted in some way."
   ]
  },
  {
   "cell_type": "code",
   "execution_count": null,
   "metadata": {},
   "outputs": [],
   "source": []
  },
  {
   "cell_type": "markdown",
   "metadata": {},
   "source": []
  },
  {
   "cell_type": "code",
   "execution_count": null,
   "metadata": {},
   "outputs": [],
   "source": []
  },
  {
   "cell_type": "code",
   "execution_count": null,
   "metadata": {},
   "outputs": [],
   "source": []
  },
  {
   "cell_type": "code",
   "execution_count": null,
   "metadata": {},
   "outputs": [],
   "source": []
  },
  {
   "cell_type": "markdown",
   "metadata": {},
   "source": []
  },
  {
   "cell_type": "markdown",
   "metadata": {},
   "source": []
  },
  {
   "cell_type": "code",
   "execution_count": null,
   "metadata": {},
   "outputs": [],
   "source": []
  },
  {
   "cell_type": "markdown",
   "metadata": {},
   "source": []
  },
  {
   "cell_type": "markdown",
   "metadata": {},
   "source": []
  }
 ],
 "metadata": {
  "language_info": {
   "name": "python",
   "nbconvert_exporter": "python"
  },
  "orig_nbformat": 4
 },
 "nbformat": 4,
 "nbformat_minor": 2
}