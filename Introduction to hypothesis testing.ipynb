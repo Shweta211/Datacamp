{
 "cells": [
  {
   "cell_type": "markdown",
   "metadata": {},
   "source": [
    "Uses of A/B testing\r\n",
    "In the video, you saw how Electronic Arts used A/B testing on their website when launching SimCity 5. One version of the page showed an advertisement for a discount, and one version did not. Half the users saw one version of the page, and the other half saw the second version of the page.\r\n",
    "\r\n",
    "What is the main reason to use an A/B test?\r\n",
    "\r\n",
    "Answer the question\r\n",
    "50XP\r\n",
    "Possible Answers\r\n",
    "\r\n",
    "It lets users vote on their preferred web page.\r\n",
    "press\r\n",
    "1\r\n",
    "\r\n",
    "It allows you to only give discounts to half your users.\r\n",
    "press\r\n",
    "2\r\n",
    "\r\n",
    "It is a method used to directly determine the sample size needed for your analysis.\r\n",
    "press\r\n",
    "3 : Correct\r\n",
    "\r\n",
    "It provides a way to check outcomes of competing scenarios and decide which way to proceed.\r\n",
    "press\r\n",
    "4\r\n",
    "\r\n",
    "It reduces the number of errors in production."
   ]
  },
  {
   "cell_type": "markdown",
   "metadata": {},
   "source": [
    "Calculating the sample mean\r\n",
    "The late_shipments dataset contains supply chain data on the delivery of medical supplies. Each row represents one delivery of a part. The late columns denotes whether or not the part was delivered late. A value of \"Yes\" means that the part was delivered late, and a value of \"No\" means the part was delivered on time.\r\n",
    "\r\n",
    "You'll begin your analysis by calculating a point estimate (or sample statistic), namely the proportion of late shipments.\r\n",
    "\r\n",
    "In pandas, a value's proportion in a categorical DataFrame column can be quickly calculated using the syntax:\r\n",
    "\r\n",
    "prop = (df['col'] == val).mean()\r\n",
    "late_shipments is available, and pandas is loaded as pd."
   ]
  },
  {
   "cell_type": "markdown",
   "metadata": {},
   "source": [
    "Instructions 1/2\r\n",
    "50 XP\r\n",
    "Print the late_shipments dataset"
   ]
  },
  {
   "cell_type": "code",
   "execution_count": null,
   "metadata": {},
   "outputs": [],
   "source": [
    "print(late_shipments)"
   ]
  },
  {
   "cell_type": "markdown",
   "metadata": {},
   "source": [
    "Calculate the proportion of late shipments in the sample; that is, the mean cases where the late column is \"Yes\"."
   ]
  },
  {
   "cell_type": "code",
   "execution_count": null,
   "metadata": {},
   "outputs": [],
   "source": [
    "# Calculate the proportion of late shipments\r\n",
    "late_prop_samp = (late_shipments['late']=='Yes').mean()\r\n",
    "\r\n",
    "# Print the results\r\n",
    "print(late_prop_samp)"
   ]
  },
  {
   "cell_type": "markdown",
   "metadata": {},
   "source": [
    "Calculating a z-score\r\n",
    "Since variables have arbitrary ranges and units, we need to standardize them. For example, a hypothesis test that gave different answers if the variables were in Euros instead of US dollars would be of little value. Standardization avoids that.\r\n",
    "\r\n",
    "One standardized value of interest in a hypothesis test is called a z-score. To calculate it, you need three numbers: the sample statistic (point estimate), the hypothesized statistic, and the standard error of the statistic (estimated from the bootstrap distribution).\r\n",
    "\r\n",
    "The sample statistic is available as late_prop_samp.\r\n",
    "\r\n",
    "late_shipments_boot_distn is a bootstrap distribution of the proportion of late shipments, available as a list.\r\n",
    "\r\n",
    "pandas and numpy are loaded with their usual aliases.\r\n",
    "\r\n",
    "Instructions\r\n",
    "100 XP\r\n",
    "Hypothesize that the proportion of late shipments is 6%.\r\n",
    "Calculate the standard error from the standard deviation of the bootstrap distribution.\r\n",
    "Calculate the z-score."
   ]
  },
  {
   "cell_type": "code",
   "execution_count": null,
   "metadata": {},
   "outputs": [],
   "source": [
    "# Hypothesize that the proportion is 6%\r\n",
    "late_prop_hyp = 0.06\r\n",
    "\r\n",
    "# Calculate the standard error\r\n",
    "std_error = np.std(late_shipments_boot_distn)\r\n",
    "\r\n",
    "# Find z-score of late_prop_samp\r\n",
    "z_score = (late_prop_samp-late_prop_hyp)/std_error\r\n",
    "\r\n",
    "# Print z_score\r\n",
    "print(z_score)"
   ]
  },
  {
   "cell_type": "markdown",
   "metadata": {},
   "source": [
    "Criminal trials and hypothesis tests\r\n",
    "In the video, you saw how hypothesis testing follows a similar process to criminal trials.\r\n",
    "\r\n",
    "Which of the following correctly matches up a criminal trial with properties of a hypothesis test?\r\n",
    "\r\n",
    "Answer the question\r\n",
    "50XP\r\n",
    "Possible Answers\r\n",
    "\r\n",
    "Just as with criminal trials, there are more than two possible results at the conclusion of a hypothesis test.\r\n",
    "press\r\n",
    "1\r\n",
    "\r\n",
    "Just as the defendant is initially assumed not guilty, the null hypothesis is first assumed to be true.\r\n",
    "press\r\n",
    "2 : Correct\r\n",
    "\r\n",
    "The defendant can be both guilty and not guilty for the crime charged, and both the null and alternative hypotheses can be chosen at the end of the test.\r\n",
    "press\r\n",
    "3\r\n",
    "\r\n",
    "Just as a court can decline to give a verdict, it's possible for neither the null hypothesis nor the alternative hypothesis to be chosen at the end of the test.\r\n",
    "press\r\n",
    "4\r\n",
    "\r\n",
    "Just as the defendant is initially assumed guilty, the alternative hypothesis is first assumed to be true.\r\n",
    "press\r\n",
    "5"
   ]
  },
  {
   "cell_type": "markdown",
   "metadata": {},
   "source": [
    "Calculating p-values\r\n",
    "In order to determine whether to choose the null hypothesis or the alternative hypothesis, you need to calculate a p-value from the z-score.\r\n",
    "\r\n",
    "You'll now return to the late shipments dataset and the proportion of late shipments.\r\n",
    "\r\n",
    "The null hypothesis, , is that the proportion of late shipments is six percent.\r\n",
    "\r\n",
    "The alternative hypothesis, , is that the proportion of late shipments is greater than six percent.\r\n",
    "\r\n",
    "The observed sample statistic, late_prop_samp, the hypothesized value, late_prop_hyp (6%), and the bootstrap standard error, std_error are available. norm from scipy.stats has also been loaded without an alias.\r\n",
    "\r\n",
    "Instructions 1/2\r\n",
    "50 XP\r\n",
    "Question\r\n",
    "What type of test should be used for this alternative hypothesis?\r\n",
    "\r\n",
    "Possible Answers\r\n",
    "\r\n",
    "Two-tailed\r\n",
    "\r\n",
    "Left-tailed\r\n",
    "\r\n",
    "Right-tailed : Correct\r\n",
    "\r\n",
    "It doesn't matter; any one will do.\r\n",
    "\r\n",
    "A hypothesis test isn't appropriate to answer this question.\r\n",
    "\r\n",
    "Submit Answer\r\n"
   ]
  },
  {
   "cell_type": "markdown",
   "metadata": {},
   "source": [
    "Calculating p-values\r\n",
    "In order to determine whether to choose the null hypothesis or the alternative hypothesis, you need to calculate a p-value from the z-score.\r\n",
    "\r\n",
    "You'll now return to the late shipments dataset and the proportion of late shipments.\r\n",
    "\r\n",
    "The null hypothesis, , is that the proportion of late shipments is six percent.\r\n",
    "\r\n",
    "The alternative hypothesis, , is that the proportion of late shipments is greater than six percent.\r\n",
    "\r\n",
    "The observed sample statistic, late_prop_samp, the hypothesized value, late_prop_hyp (6%), and the bootstrap standard error, std_error are available. norm from scipy.stats has also been loaded without an alias.\r\n",
    "\r\n",
    "Instructions 2/2\r\n",
    "50 XP\r\n",
    "Calculate the z-score of late_prop_samp.\r\n",
    "Calculate the p-value for the z-score, using a right-tailed test."
   ]
  },
  {
   "cell_type": "code",
   "execution_count": null,
   "metadata": {},
   "outputs": [],
   "source": [
    "# Calculate the z-score of late_prop_samp\r\n",
    "z_score = (late_prop_samp-late_prop_hyp)/std_error\r\n",
    "\r\n",
    "# Calculate the p-value\r\n",
    "p_value = 1-norm.cdf(z_score,0,1)\r\n",
    "                 \r\n",
    "# Print the p-value\r\n",
    "print(p_value) "
   ]
  },
  {
   "cell_type": "markdown",
   "metadata": {},
   "source": [
    "Decisions from p-values\r\n",
    "The p-value, denoted here as , is a measure of the amount of evidence to reject the null hypothesis or not. By comparing the p-value to the significance level, , you can make a decision about which hypothesis to support.\r\n",
    "\r\n",
    "Which of the following is the correct conclusion from the decision rule for a significance level ?\r\n",
    "\r\n",
    "Answer the question\r\n",
    "50XP\r\n",
    "Possible Answers\r\n",
    "\r\n",
    "If the , reject .\r\n",
    "press\r\n",
    "1\r\n",
    "\r\n",
    "If the , reject .\r\n",
    "press\r\n",
    "2\r\n",
    "\r\n",
    "If the , don't reject .\r\n",
    "press\r\n",
    "3: Correct \r\n",
    "\r\n",
    "If the , reject ."
   ]
  },
  {
   "cell_type": "markdown",
   "metadata": {},
   "source": [
    "Calculating a confidence interval\r\n",
    "If you give a single estimate of a sample statistic, you are bound to be wrong by some amount. For example, the hypothesized proportion of late shipments was 6%. Even if evidence suggests the null hypothesis that the proportion of late shipments is equal to this, for any new sample of shipments, the proportion is likely to be a little different due to sampling variability. Consequently, it's a good idea to state a confidence interval. That is, you say, \"we are 95% 'confident' that the proportion of late shipments is between A and B\" (for some value of A and B).\r\n",
    "\r\n",
    "Sampling in Python demonstrated two methods for calculating confidence intervals. Here, you'll use quantiles of the bootstrap distribution to calculate the confidence interval.\r\n",
    "\r\n",
    "late_prop_samp and late_shipments_boot_distn are available; pandas and numpy are loaded with their usual aliases.\r\n",
    "\r\n",
    "Instructions 1/2\r\n",
    "0 XP\r\n",
    "Calculate a 95% confidence interval from late_shipments_boot_distn using the quantile method, labeling the lower and upper intervals lower and upper.\r\n",
    "\r\n"
   ]
  },
  {
   "cell_type": "code",
   "execution_count": null,
   "metadata": {},
   "outputs": [],
   "source": [
    "# Calculate 95% confidence interval using quantile method\r\n",
    "lower = np.quantile(late_shipments_boot_distn, 0.025)\r\n",
    "upper = np.quantile(late_shipments_boot_distn, 0.975)\r\n",
    "\r\n",
    "# Print the confidence interval\r\n",
    "print((lower, upper))"
   ]
  },
  {
   "cell_type": "markdown",
   "metadata": {},
   "source": [
    "Instructions 2/2\r\n",
    "50 XP\r\n",
    "Question\r\n",
    "Does the confidence interval match up with the conclusion to stick with the original assumption that 6% is a reasonable value for the unknown population parameter?\r\n",
    "Possible Answers\r\n",
    "\r\n",
    "Yes, since 0.06 is included in the 95% confidence interval and we failed to reject  due to a large p-value, the results are similar. :correct\r\n",
    "\r\n",
    "No, since 0.06 is included in the 95% confidence interval and we should have rejected  due to a large p-value, the results do not match.\r\n",
    "\r\n",
    "No, there is no relationship between confidence intervals and hypothesis tests."
   ]
  }
 ],
 "metadata": {
  "language_info": {
   "name": "python",
   "nbconvert_exporter": "python"
  },
  "orig_nbformat": 4
 },
 "nbformat": 4,
 "nbformat_minor": 2
}