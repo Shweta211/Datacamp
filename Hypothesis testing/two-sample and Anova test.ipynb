{
 "cells": [
  {
   "cell_type": "markdown",
   "metadata": {},
   "source": [
    "Two sample mean test statistic\r\n",
    "The hypothesis test for determining if there is a difference between the means of two populations uses a different type of test statistic to the z-scores you saw in Chapter 1. It's called \"t\", and it can be calculated from three values from each sample using this equation.\r\n",
    "\r\n",
    " \r\n",
    " \r\n",
    " \r\n",
    "\r\n",
    "While trying to determine why some shipments are late, you may wonder if the weight of the shipments that were on time is less than the weight of the shipments that were late. The late_shipments dataset has been split into a \"yes\" group, where late == \"Yes\" and a \"no\" group where late == \"No\". The weight of the shipment is given in the weight_kilograms variable.\r\n",
    "\r\n",
    "The sample means for the two groups are available as xbar_no and xbar_yes. The sample standard deviations are s_no and s_yes. The sample sizes are n_no and n_yes. numpy is also loaded as np.\r\n",
    "\r\n",
    "Instructions\r\n",
    "100 XP\r\n",
    "Calculate the numerator of the  test statistic.\r\n",
    "Calculate the denominator of the  test statistic.\r\n",
    "Use those two numbers to calculate the  test statistic."
   ]
  },
  {
   "cell_type": "code",
   "execution_count": null,
   "metadata": {},
   "outputs": [],
   "source": [
    "# Calculate the numerator of the test statistic\r\n",
    "numerator = xbar_no-xbar_yes\r\n",
    "\r\n",
    "# Calculate the denominator of the test statistic\r\n",
    "denominator = np.sqrt(s_no**2/n_no+ s_yes**2/n_yes)\r\n",
    "\r\n",
    "# Calculate the test statistic\r\n",
    "t_stat = numerator/denominator\r\n",
    "\r\n",
    "# Print the test statistic\r\n",
    "print(t_stat)"
   ]
  },
  {
   "cell_type": "markdown",
   "metadata": {},
   "source": [
    "Previously, you calculated the test statistic for the two-sample problem of whether the mean weight of shipments is smaller for shipments that weren't late (late == \"No\") compared to shipments that were late (late == \"Yes\"). In order to make decisions about it, you need to transform the test statistic with a cumulative distribution function to get a p-value.\r\n",
    "\r\n",
    "Recall the hypotheses:\r\n",
    "\r\n",
    ": The mean weight of shipments that weren't late is the same as the mean weight of shipments that were late.\r\n",
    "\r\n",
    ": The mean weight of shipments that weren't late is less than the mean weight of shipments that were late.\r\n",
    "\r\n",
    "The test statistic, t_stat, is available, as are the samples sizes for each group, n_no and n_yes. Use a significance level of alpha = 0.05.\r\n",
    "\r\n",
    "t has also been imported from scipy.stats.\r\n",
    "\r\n",
    "Instructions 1/3\r\n",
    "35 XP\r\n",
    "Question\r\n",
    "What type of test does the alternative hypothesis indicate that we need?\r\n",
    "\r\n",
    "Possible Answers\r\n",
    "\r\n",
    "Two-tailed\r\n",
    "\r\n",
    "Left-tailed: Correct\r\n",
    "\r\n",
    "Right-tailed\r\n",
    "\r\n"
   ]
  },
  {
   "cell_type": "markdown",
   "metadata": {},
   "source": [
    "Calculate the degrees of freedom for the test.\r\n",
    "Compute the p-value using the test statistic, t_stat."
   ]
  },
  {
   "cell_type": "code",
   "execution_count": null,
   "metadata": {},
   "outputs": [],
   "source": [
    "# Calculate the degrees of freedom\r\n",
    "degrees_of_freedom = n_no + n_yes - 2\r\n",
    "\r\n",
    "# Calculate the p-value from the test stat\r\n",
    "p_value = t.cdf(t_stat, df=degrees_of_freedom)\r\n",
    "\r\n",
    "# Print the p_value\r\n",
    "print(p_value)"
   ]
  },
  {
   "cell_type": "markdown",
   "metadata": {},
   "source": [
    "Question\r\n",
    "What decision should you make based on the results of the hypothesis test?\r\n",
    "\r\n",
    "Possible Answers\r\n",
    "\r\n",
    "Fail to reject the null hypothesis. : Correct\r\n",
    "\r\n",
    "Reject the null hypothesis.\r\n",
    "\r\n",
    "You can't conclude anything from this hypothesis test."
   ]
  },
  {
   "cell_type": "markdown",
   "metadata": {},
   "source": [
    "Visualizing the difference\r\n",
    "Before you start running hypothesis tests, it's a great idea to perform some exploratory data analysis; that is, calculating summary statistics and visualizing distributions.\r\n",
    "\r\n",
    "Here, you'll look at the proportion of county-level votes for the Democratic candidate in 2012 and 2016, sample_dem_data. Since the counties are the same in both years, these samples are paired. The columns containing the samples are dem_percent_12 and dem_percent_16.\r\n",
    "\r\n",
    "dem_votes_potus_12_16 is available as sample_dem_data. pandas and matplotlib.pyplot are loaded with their usual aliases.\r\n",
    "\r\n",
    "Instructions 1/4\r\n",
    "1 XP\r\n",
    "Create a new diff column containing the percentage of votes for the democratic candidate in 2012 minus the percentage of votes for the democratic candidate in 2016.\r\n",
    "\r\n"
   ]
  },
  {
   "cell_type": "code",
   "execution_count": null,
   "metadata": {},
   "outputs": [],
   "source": [
    "# Calculate the differences from 2012 to 2016\r\n",
    "sample_dem_data['diff'] = sample_dem_data['dem_percent_12'] - sample_dem_data['dem_percent_16']\r\n",
    "\r\n",
    "# Print sample_dem_data\r\n",
    "print(sample_dem_data)"
   ]
  },
  {
   "cell_type": "markdown",
   "metadata": {},
   "source": [
    "Calculate the mean of the diff column as xbar_diff."
   ]
  },
  {
   "cell_type": "code",
   "execution_count": null,
   "metadata": {},
   "outputs": [],
   "source": [
    "# Calculate the differences from 2012 to 2016\r\n",
    "sample_dem_data['diff'] = sample_dem_data['dem_percent_12'] - sample_dem_data['dem_percent_16']\r\n",
    "\r\n",
    "# Find the mean of the diff column\r\n",
    "xbar_diff = sample_dem_data['diff'].mean()\r\n",
    "\r\n",
    "# Print xbar_diff\r\n",
    "print(xbar_diff)"
   ]
  },
  {
   "cell_type": "markdown",
   "metadata": {},
   "source": [
    "Calculate the standard deviation of the diff column as s_diff."
   ]
  },
  {
   "cell_type": "code",
   "execution_count": null,
   "metadata": {},
   "outputs": [],
   "source": [
    "# Calculate the differences from 2012 to 2016\r\n",
    "sample_dem_data['diff'] = sample_dem_data['dem_percent_12'] - sample_dem_data['dem_percent_16']\r\n",
    "\r\n",
    "# Find the mean of the diff column\r\n",
    "xbar_diff = sample_dem_data['diff'].mean()\r\n",
    "\r\n",
    "# Find the standard deviation of the diff column\r\n",
    "s_diff = sample_dem_data['diff'].std()\r\n",
    "\r\n",
    "# Print s_diff\r\n",
    "print(s_diff)"
   ]
  },
  {
   "cell_type": "markdown",
   "metadata": {},
   "source": [
    "Instructions 4/4\r\n",
    "1 XP\r\n",
    "Plot a histogram of the diff column with 20 bins."
   ]
  },
  {
   "cell_type": "code",
   "execution_count": null,
   "metadata": {},
   "outputs": [],
   "source": [
    "# Plot a histogram of diff with 20 bins\r\n",
    "sample_dem_data['diff'].hist(bins=20)\r\n",
    "plt.show()"
   ]
  },
  {
   "cell_type": "markdown",
   "metadata": {},
   "source": [
    "Using ttest()\r\n",
    "Manually calculating test statistics and transforming them with a CDF to get a p-value is a lot of effort to compare two sample means. The comparison of two sample means is called a t-test, and the pingouin Python package has a .ttest() method to accomplish it. This method provides some flexibility in how you perform the test.\r\n",
    "\r\n",
    "As in the previous exercise, you'll explore the difference between the proportion of county-level votes for the Democratic candidate in 2012 and 2016 to identify if the difference is significant. The hypotheses are as follows:\r\n",
    "\r\n",
    ": The proportion of democratic votes in 2012 and 2016 were the same. : The proportion of democratic votes in 2012 and 2016 were different.\r\n",
    "\r\n",
    "sample_dem_data is available and has the columns diff, dem_percent_12, and dem_percent_16 in addition to the state and county names. pingouin and has been loaded along with pandas as pd.\r\n",
    "\r\n",
    "Instructions 1/4\r\n",
    "1 XP\r\n",
    "Conduct a t-test on the sample differences (the diff column of sample_dem_data), using an appropriate alternative hypothesis chosen from \"two-sided\", \"less\", and \"greater\""
   ]
  },
  {
   "cell_type": "code",
   "execution_count": null,
   "metadata": {},
   "outputs": [],
   "source": [
    "# Conduct a t-test on diff\r\n",
    "test_results = pingouin.ttest(x=sample_dem_data['diff'], \r\n",
    "                              y=0, \r\n",
    "                              alternative=\"two-sided\")\r\n",
    "                              \r\n",
    "# Print the test results\r\n",
    "print(test_results)"
   ]
  },
  {
   "cell_type": "markdown",
   "metadata": {},
   "source": [
    "Instructions 2/4\r\n",
    "25 XP\r\n",
    "Question\r\n",
    "What's the correct decision from the t-test, assuming ?\r\n",
    "\r\n",
    "Possible Answers\r\n",
    "\r\n",
    "Fail to reject the null hypothesis.\r\n",
    "\r\n",
    "Reject the null hypothesis. : Correct\r\n",
    "\r\n",
    "You can't conclude anything from this hypothesis test."
   ]
  },
  {
   "cell_type": "markdown",
   "metadata": {},
   "source": [
    "Instructions 3/4\r\n",
    "1 XP\r\n",
    "Conduct a paired test on the democratic votes in 2012 and 2016 (the dem_percent_12 and dem_percent_16 columns of sample_dem_data), using an appropriate alternative hypothesis."
   ]
  },
  {
   "cell_type": "code",
   "execution_count": null,
   "metadata": {},
   "outputs": [],
   "source": [
    "# Conduct a t-test on diff\r\n",
    "test_results = pingouin.ttest(x=sample_dem_data['diff'], \r\n",
    "                              y=0, \r\n",
    "                              alternative=\"two-sided\")\r\n",
    "\r\n",
    "# Conduct a paired t-test on dem_percent_12 and dem_percent_16\r\n",
    "paired_test_results = pingouin.ttest(x=sample_dem_data['dem_percent_12'], \r\n",
    "                                     y=sample_dem_data['dem_percent_16'],\r\n",
    "                                     paired=True,\r\n",
    "                                     alternative=\"two-sided\")\r\n",
    "                              \r\n",
    "# Print the paired test results\r\n",
    "print(paired_test_results)"
   ]
  },
  {
   "cell_type": "markdown",
   "metadata": {},
   "source": [
    "Instructions 4/4\r\n",
    "25 XP\r\n",
    "Question\r\n",
    "Compare the paired t-test to an (inappropriate) unpaired test on the same data. How does the p-value change?\r\n",
    "\r\n",
    "pingouin.ttest(x=sample_dem_data['dem_percent_12'], \r\n",
    "               y=sample_dem_data['dem_percent_16'], \r\n",
    "               alternative=\"two-sided\")\r\n",
    "Possible Answers\r\n",
    "\r\n",
    "The p-value from the unpaired test is smaller than the p-value from the paired test.\r\n",
    "\r\n",
    "The p-value from the unpaired test is equal to the p-value from the paired test.\r\n",
    "\r\n",
    "The p-value from the unpaired test is greater than than the p-value from the paired test.: Correct"
   ]
  },
  {
   "cell_type": "markdown",
   "metadata": {},
   "source": [
    "Visualizing the difference\r\n",
    "Before you start running hypothesis tests, it's a great idea to perform some exploratory data analysis; that is, calculating summary statistics and visualizing distributions.\r\n",
    "\r\n",
    "Here, you'll look at the proportion of county-level votes for the Democratic candidate in 2012 and 2016, sample_dem_data. Since the counties are the same in both years, these samples are paired. The columns containing the samples are dem_percent_12 and dem_percent_16.\r\n",
    "\r\n",
    "dem_votes_potus_12_16 is available as sample_dem_data. pandas and matplotlib.pyplot are loaded with their usual aliases.\r\n",
    "\r\n",
    "Instructions 4/4\r\n",
    "1 XP\r\n",
    "Plot a histogram of the diff column with 20 bins."
   ]
  },
  {
   "cell_type": "code",
   "execution_count": null,
   "metadata": {},
   "outputs": [],
   "source": [
    "# Calculate the differences from 2012 to 2016\r\n",
    "sample_dem_data['diff'] = sample_dem_data['dem_percent_12'] - sample_dem_data['dem_percent_16']\r\n",
    "\r\n",
    "# Find the mean of the diff column\r\n",
    "xbar_diff = sample_dem_data['diff'].mean()\r\n",
    "\r\n",
    "# Find the standard deviation of the diff column\r\n",
    "s_diff = sample_dem_data['diff'].std()\r\n",
    "\r\n",
    "# Plot a histogram of diff with 20 bins\r\n",
    "sample_dem_data['diff'].hist(bins=20)\r\n",
    "plt.show()"
   ]
  },
  {
   "cell_type": "markdown",
   "metadata": {},
   "source": [
    "Visualizing many categories\r\n",
    "So far in this chapter, we've only considered the case of differences in a numeric variable between two categories. Of course, many datasets contain more categories. Before you get to conducting tests on many categories, it's often helpful to perform exploratory data analysis (EDA), calculating summary statistics for each group and visualizing the distributions of the numeric variable for each category using box plots.\r\n",
    "\r\n",
    "Here, we'll return to the late shipments data, and how the price of each package (pack_price) varies between the three shipment modes (shipment_mode): \"Air\", \"Air Charter\", and \"Ocean\".\r\n",
    "\r\n",
    "late_shipments is available; pandas and matplotlib.pyplot are loaded with their standard aliases, and seaborn is loaded as sns.\r\n",
    "\r\n",
    "Instructions 1/3\r\n",
    "1 XP\r\n",
    "Group late_shipments by shipment_mode and calculate the mean pack_price for each group, storing the result in xbar_pack_by_mode.\r\n",
    "\r\n"
   ]
  },
  {
   "cell_type": "code",
   "execution_count": null,
   "metadata": {},
   "outputs": [],
   "source": [
    "# Calculate the mean pack_price for each shipment_mode\r\n",
    "xbar_pack_by_mode = late_shipments.groupby(\"shipment_mode\")['pack_price'].mean()\r\n",
    "\r\n",
    "# Print the grouped means\r\n",
    "print(xbar_pack_by_mode)"
   ]
  },
  {
   "cell_type": "markdown",
   "metadata": {},
   "source": [
    "Instructions 2/3\r\n",
    "1 XP\r\n",
    "Group late_shipments by shipment_mode and calculate the standard deviation pack_price for each group, storing the result in s_pack_by_mode"
   ]
  },
  {
   "cell_type": "code",
   "execution_count": null,
   "metadata": {},
   "outputs": [],
   "source": [
    "# Calculate the mean pack_price for each shipment_mode\r\n",
    "xbar_pack_by_mode = late_shipments.groupby(\"shipment_mode\")['pack_price'].mean()\r\n",
    "\r\n",
    "# Calculate the standard deviation of the pack_price for each shipment_mode\r\n",
    "s_pack_by_mode = late_shipments.groupby(\"shipment_mode\")['pack_price'].std()\r\n",
    "\r\n",
    "# Print the grouped standard deviations\r\n",
    "print(s_pack_by_mode)"
   ]
  },
  {
   "cell_type": "markdown",
   "metadata": {},
   "source": [
    "Instructions 3/3\r\n",
    "0 XP\r\n",
    "Create a boxplot from late_shipments with \"pack_price\" as x and \"shipment_mode\" as y."
   ]
  },
  {
   "cell_type": "code",
   "execution_count": null,
   "metadata": {},
   "outputs": [],
   "source": [
    "# Calculate the mean pack_price for each shipment_mode\r\n",
    "xbar_pack_by_mode = late_shipments.groupby(\"shipment_mode\")['pack_price'].mean()\r\n",
    "\r\n",
    "# Calculate the standard deviation of the pack_price for each shipment_mode\r\n",
    "s_pack_by_mode = late_shipments.groupby(\"shipment_mode\")['pack_price'].std()\r\n",
    "\r\n",
    "# Boxplot of shipment_mode vs. pack_price\r\n",
    "sns.boxplot(x=\"pack_price\", y=\"shipment_mode\", data=late_shipments)\r\n",
    "plt.show()"
   ]
  },
  {
   "cell_type": "markdown",
   "metadata": {},
   "source": [
    "Conducting an ANOVA test\r\n",
    "The box plots made it look like the distribution of pack price was different for each of the three shipment modes. However, it didn't tell us whether the mean pack price was different in each category. To determine that, we can use an ANOVA test. The null and alternative hypotheses can be written as follows.\r\n",
    "\r\n",
    ": Pack prices for every category of shipment mode are the same.\r\n",
    "\r\n",
    ": Pack prices for some categories of shipment mode are different.\r\n",
    "\r\n",
    "Use a significance level of 0.1.\r\n",
    "\r\n",
    "late_shipments is available and pingouin has been loaded.\r\n",
    "\r\n",
    "Instructions 1/2\r\n",
    "0 XP\r\n",
    "Run an ANOVA on late_shipments investigating 'pack_price' (the dependent variable) between the groups of 'shipment_mode'.\r\n",
    "\r\n"
   ]
  },
  {
   "cell_type": "code",
   "execution_count": null,
   "metadata": {},
   "outputs": [],
   "source": [
    "# Run an ANOVA for pack_price across shipment_mode\r\n",
    "anova_results = pingouin.anova(data=late_shipments,\r\n",
    "                               dv=\"pack_price\",\r\n",
    "                               between=\"shipment_mode\")\r\n",
    "\r\n",
    "# Print anova_results\r\n",
    "print(anova_results)"
   ]
  },
  {
   "cell_type": "markdown",
   "metadata": {},
   "source": [
    "Question\r\n",
    "Assuming a significance level of 0.1, should you reject the null hypothesis that there is no difference in pack prices between shipment modes?\r\n",
    "\r\n",
    "Possible Answers\r\n",
    "\r\n",
    "Yes. The p-value is greater than or equal to the significance level, so the null hypothesis should be rejected.\r\n",
    "\r\n",
    "Yes. The p-value is less than or equal to the significance level, so the null hypothesis should be rejected.: Correct\r\n",
    "\r\n",
    "No. The p-value is greater than or equal to the significance level, so the null hypothesis should fail to be rejected.\r\n",
    "\r\n",
    "No. The p-value is less than or equal to the significance level, so the null hypothesis should fail to be rejected. "
   ]
  },
  {
   "cell_type": "markdown",
   "metadata": {},
   "source": [
    "Pairwise t-tests\r\n",
    "The ANOVA test didn't tell you which categories of shipment mode had significant differences in pack prices. To pinpoint which categories had differences, you could instead use pairwise t-tests.\r\n",
    "\r\n",
    "late_shipments is available and pingouin has been loaded.\r\n",
    "\r\n",
    "Instructions 1/3\r\n",
    "1 XP\r\n",
    "Perform pairwise t-tests on late_shipments's pack_price variable, grouped by shipment_mode, without doing any p-value adjustment"
   ]
  },
  {
   "cell_type": "code",
   "execution_count": null,
   "metadata": {},
   "outputs": [],
   "source": [
    "# Perform a pairwise t-test on pack price, grouped by shipment mode\r\n",
    "pairwise_results = pingouin.pairwise_tests(data=late_shipments, \r\n",
    "                                           dv=\"pack_price\",\r\n",
    "                                           between=\"shipment_mode\",\r\n",
    "                                           padjust=\"none\")\r\n",
    "\r\n",
    "# Print pairwise_results\r\n",
    "print(pairwise_results)"
   ]
  },
  {
   "cell_type": "markdown",
   "metadata": {},
   "source": [
    "Instructions 2/3\r\n",
    "1 XP\r\n",
    "Modify the pairwise t-tests to use the Bonferroni p-value adjustment."
   ]
  },
  {
   "cell_type": "code",
   "execution_count": null,
   "metadata": {},
   "outputs": [],
   "source": [
    "# Modify the pairwise t-tests to use Bonferroni p-value adjustment\r\n",
    "pairwise_results = pingouin.pairwise_tests(data=late_shipments, \r\n",
    "                                           dv=\"pack_price\",\r\n",
    "                                           between=\"shipment_mode\",\r\n",
    "                                           padjust=\"bonf\")\r\n",
    "\r\n",
    "# Print pairwise_results\r\n",
    "print(pairwise_results)"
   ]
  },
  {
   "cell_type": "markdown",
   "metadata": {},
   "source": [
    "Using the Bonferroni correction results and assuming a significance level of 0.1, for which pairs of shipment modes should you reject the null hypothesis that the pack prices are equal?\r\n",
    "\r\n",
    "Possible Answers\r\n",
    "\r\n",
    "\"Ocean\" and \"Air Charter\"; \"Ocean\" and \"Air\"; \"Air Charter\" and \"Air\".: Correct\r\n",
    "\r\n",
    "\"Ocean\" and \"Air\" and also \"Air Charter\" and \"Air\".\r\n",
    "\r\n",
    "\"Ocean\" and \"Air\" only.\r\n",
    "\r\n",
    "\"Ocean\" and \"Air Charter\" only."
   ]
  }
 ],
 "metadata": {
  "language_info": {
   "name": "python",
   "nbconvert_exporter": "python"
  },
  "orig_nbformat": 4
 },
 "nbformat": 4,
 "nbformat_minor": 2
}