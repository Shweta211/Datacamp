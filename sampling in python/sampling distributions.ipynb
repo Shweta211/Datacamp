{
 "cells": [
  {
   "cell_type": "markdown",
   "metadata": {},
   "source": [
    "Calculating relative errors\r\n",
    "The size of the sample you take affects how accurately the point estimates reflect the corresponding population parameter. For example, when you calculate a sample mean, you want it to be close to the population mean. However, if your sample is too small, this might not be the case.\r\n",
    "\r\n",
    "The most common metric for assessing accuracy is relative error. This is the absolute difference between the population parameter and the point estimate, all divided by the population parameter. It is sometimes expressed as a percentage.\r\n",
    "\r\n",
    "attrition_pop and mean_attrition_pop (the mean of the Attrition column of attrition_pop) are available; pandas is loaded as pd."
   ]
  },
  {
   "cell_type": "markdown",
   "metadata": {},
   "source": [
    "Instructions 1/2\r\n",
    "0 XP\r\n",
    "Generate a simple random sample from attrition_pop of fifty rows, setting the seed to 2022.\r\n",
    "Calculate the mean employee Attrition in the sample.\r\n",
    "Calculate the relative error between mean_attrition_srs50 and mean_attrition_pop as a percentage."
   ]
  },
  {
   "cell_type": "code",
   "execution_count": null,
   "metadata": {},
   "outputs": [],
   "source": [
    "# Generate a simple random sample of 50 rows, with seed 2022\r\n",
    "attrition_srs50 = attrition_pop.sample(n=50, random_state=2022)\r\n",
    "\r\n",
    "# Calculate the mean employee attrition in the sample\r\n",
    "mean_attrition_srs50 = attrition_srs50['Attrition'].mean()\r\n",
    "\r\n",
    "# Calculate the relative error percentage\r\n",
    "rel_error_pct50 = 100 * abs(mean_attrition_pop - mean_attrition_srs50) / mean_attrition_pop\r\n",
    "\r\n",
    "# Print rel_error_pct50\r\n",
    "print(rel_error_pct50)"
   ]
  },
  {
   "cell_type": "markdown",
   "metadata": {},
   "source": [
    "Calculate the relative error percentage again. This time, use a simple random sample of one hundred rows of attrition_pop."
   ]
  },
  {
   "cell_type": "code",
   "execution_count": null,
   "metadata": {},
   "outputs": [],
   "source": [
    "# Calculate the relative error percentage\r\n",
    "rel_error_pct100  = 100 * abs(mean_attrition_pop - mean_attrition_srs100) / mean_attrition_pop\r\n",
    "\r\n",
    "# Print rel_error_pct100\r\n",
    "print(rel_error_pct100)"
   ]
  },
  {
   "cell_type": "markdown",
   "metadata": {},
   "source": [
    "Replicating samples\r\n",
    "When you calculate a point estimate such as a sample mean, the value you calculate depends on the rows that were included in the sample. That means that there is some randomness in the answer. In order to quantify the variation caused by this randomness, you can create many samples and calculate the sample mean (or another statistic) for each sample.\r\n",
    "\r\n",
    "attrition_pop is available; pandas and matplotlib.pyplot are loaded with their usual aliases.\r\n",
    "\r\n",
    "Instructions 1/2\r\n",
    "50 XP\r\n",
    "Replicate the provided code so that it runs 500 times. Assign the resulting list of sample means to mean_attritions."
   ]
  },
  {
   "cell_type": "code",
   "execution_count": null,
   "metadata": {},
   "outputs": [],
   "source": [
    "# Create an empty list\r\n",
    "mean_attritions=[]\r\n",
    "# Loop 500 times to create 500 sample means\r\n",
    "for i in range(500):\r\n",
    "\tmean_attritions.append(\r\n",
    "    \tattrition_pop.sample(n=60)['Attrition'].mean()\r\n",
    "\t)\r\n",
    "  \r\n",
    "# Print out the first few entries of the list\r\n",
    "print(mean_attritions[0:5])"
   ]
  },
  {
   "cell_type": "markdown",
   "metadata": {},
   "source": [
    "Draw a histogram of the mean_attritions list with 16 bins."
   ]
  },
  {
   "cell_type": "code",
   "execution_count": null,
   "metadata": {},
   "outputs": [],
   "source": [
    "\r\n",
    "# Create a histogram of the 500 sample means\r\n",
    "plt.hist(mean_attritions,bins=16)\r\n",
    "plt.show()"
   ]
  },
  {
   "cell_type": "markdown",
   "metadata": {},
   "source": [
    "Exact sampling distribution\r\n",
    "To quantify how the point estimate (sample statistic) you are interested in varies, you need to know all the possible values it can take and how often. That is, you need to know its distribution.\r\n",
    "\r\n",
    "The distribution of a sample statistic is called the sampling distribution. When we can calculate this exactly, rather than using an approximation, it is known as the exact sampling distribution.\r\n",
    "\r\n",
    "Let's take another look at the sampling distribution of dice rolls. This time, we'll look at five eight-sided dice. (These have the numbers one to eight.)\r\n",
    "\r\n",
    "8 sided die\r\n",
    "\r\n",
    "pandas, numpy, and matplotlib.pyplot are loaded with their usual aliases. The expand_grid() function is also available, which expects a dictionary of key-value pairs as its argument. The definition of the expand_grid() function is provided in the pandas documentation.\r\n",
    "\r\n",
    "Instructions 1/3\r\n",
    "1 XP\r\n",
    "Expand a grid representing 5 8-sided dice. That is, create a DataFrame with five columns from a dictionary, named die1 to die5. The rows should contain all possibilities for throwing five dice, each numbered 1 to 8.\r\n",
    "\r\n"
   ]
  },
  {
   "cell_type": "code",
   "execution_count": null,
   "metadata": {},
   "outputs": [],
   "source": [
    "# Expand a grid representing 5 8-sided dice\r\n",
    "dice = expand_grid(\r\n",
    "  {'die1': [1, 2, 3, 4, 5, 6, 7, 8],\r\n",
    "   'die2': [1, 2, 3, 4, 5, 6, 7, 8],\r\n",
    "   'die3': [1, 2, 3, 4, 5, 6, 7, 8],\r\n",
    "   'die4': [1, 2, 3, 4, 5, 6, 7, 8],\r\n",
    "   'die5': [1, 2, 3, 4, 5, 6, 7, 8]\r\n",
    "  })\r\n",
    "\r\n",
    "# Print the result\r\n",
    "print(dice)"
   ]
  },
  {
   "cell_type": "markdown",
   "metadata": {},
   "source": [
    "Add a column, mean_roll, to dice, that contains the mean of the five rolls as a categorical."
   ]
  },
  {
   "cell_type": "code",
   "execution_count": null,
   "metadata": {},
   "outputs": [],
   "source": [
    "# Add a column of mean rolls and convert to a categorical\r\n",
    "dice['mean_roll'] = (dice['die1'] + dice['die2'] + \r\n",
    "                     dice['die3'] + dice['die4'] + \r\n",
    "                     dice['die5']) / 5\r\n",
    "dice['mean_roll'] = dice['mean_roll'].astype('category')\r\n",
    "\r\n",
    "# Print result\r\n",
    "print(dice)"
   ]
  },
  {
   "cell_type": "markdown",
   "metadata": {},
   "source": [
    "Create a bar plot of the mean_roll categorical column, so it displays the count of each mean_roll in increasing order from 1.0 to 8.0."
   ]
  },
  {
   "cell_type": "code",
   "execution_count": null,
   "metadata": {},
   "outputs": [],
   "source": [
    "# Draw a bar plot of mean_roll\r\n",
    "dice['mean_roll'].value_counts(sort=False).plot(kind=\"bar\")\r\n",
    "plt.show()"
   ]
  },
  {
   "cell_type": "markdown",
   "metadata": {},
   "source": [
    "Generating an approximate sampling distribution\r\n",
    "Calculating the exact sampling distribution is only possible in very simple situations. With just five eight-sided dice, the number of possible rolls is 8**5, which is over thirty thousand. When the dataset is more complicated, for example, where a variable has hundreds or thousands of categories, the number of possible outcomes becomes too difficult to compute exactly.\r\n",
    "\r\n",
    "In this situation, you can calculate an approximate sampling distribution by simulating the exact sampling distribution. That is, you can repeat a procedure over and over again to simulate both the sampling process and the sample statistic calculation process.\r\n",
    "\r\n",
    "pandas, numpy, and matplotlib.pyplot are loaded with their usual aliases.\r\n",
    "\r\n",
    "Instructions 1/3\r\n",
    "35 XP\r\n",
    "Sample one to eight, five times, with replacement. Assign to five_rolls.\r\n",
    "Calculate the mean of five_rolls.\r\n",
    "Replicate the sampling code 1000 times, assigning each result to the list sample_means_1000.\r\n",
    "Plot sample_means_1000 as a histogram with 20 bins."
   ]
  },
  {
   "cell_type": "code",
   "execution_count": null,
   "metadata": {},
   "outputs": [],
   "source": [
    "# Sample one to eight, five times, with replacement\r\n",
    "five_rolls = np.random.choice(list(range(1,9)),size=5,replace=True)\r\n",
    "\r\n",
    "# Print the mean of five_rolls\r\n",
    "print(five_rolls.mean())"
   ]
  },
  {
   "cell_type": "code",
   "execution_count": null,
   "metadata": {},
   "outputs": [],
   "source": [
    "# Replicate the sampling code 1000 times\r\n",
    "sample_means_1000 = []\r\n",
    "for i in range(1000):\r\n",
    "    sample_means_1000.append(\r\n",
    "  \t\tnp.random.choice(list(range(1, 9)), size=5, replace=True).mean())\r\n",
    "   \r\n",
    "    \r\n",
    "# Print the first 10 entries of the result\r\n",
    "print(sample_means_1000[0:10])"
   ]
  },
  {
   "cell_type": "code",
   "execution_count": null,
   "metadata": {},
   "outputs": [],
   "source": [
    "# Replicate the sampling code 1000 times\r\n",
    "sample_means_1000 = []\r\n",
    "for i in range(1000):\r\n",
    "    sample_means_1000.append(\r\n",
    "  \t\tnp.random.choice(list(range(1, 9)), size=5, replace=True).mean()\r\n",
    "    )\r\n",
    "\r\n",
    "# Draw a histogram of sample_means_1000 with 20 bins\r\n",
    "plt.hist(sample_means_1000,bins=20)\r\n",
    "plt.show()"
   ]
  },
  {
   "cell_type": "markdown",
   "metadata": {},
   "source": [
    "Population & sampling distribution means\r\n",
    "One of the useful features of sampling distributions is that you can quantify them. Specifically, you can calculate summary statistics on them. Here, you'll look at the relationship between the mean of the sampling distribution and the population parameter's mean.\r\n",
    "\r\n",
    "Three sampling distributions are provided. For each, the employee attrition dataset was sampled using simple random sampling, then the mean attrition was calculated. This was done 1000 times to get a sampling distribution of mean attritions. One sampling distribution used a sample size of 5 for each replicate, one used 50, and one used 500.\r\n",
    "\r\n",
    "attrition_pop, sampling_distribution_5, sampling_distribution_50, and sampling_distribution_500 are available; numpy as np is loaded.\r\n",
    "\r\n",
    "Instructions 1/2\r\n",
    "0 XP\r\n",
    "Calculate the mean of sampling_distribution_5, sampling_distribution_50, and sampling_distribution_500 (a mean of sample means).\r\n",
    "\r\n"
   ]
  },
  {
   "cell_type": "code",
   "execution_count": null,
   "metadata": {},
   "outputs": [],
   "source": [
    "# Calculate the mean of the mean attritions for each sampling distribution\r\n",
    "mean_of_means_5 = np.mean(sampling_distribution_5)\r\n",
    "mean_of_means_50 = np.mean(sampling_distribution_50)\r\n",
    "mean_of_means_500 = np.mean(sampling_distribution_500)\r\n",
    "\r\n",
    "# Print the results\r\n",
    "print(mean_of_means_5)\r\n",
    "print(mean_of_means_50)\r\n",
    "print(mean_of_means_500)"
   ]
  },
  {
   "cell_type": "markdown",
   "metadata": {},
   "source": [
    "Instructions 2/2\r\n",
    "50 XP\r\n",
    "Question\r\n",
    "How does sample size affect the mean of the sample means?\r\n",
    "\r\n",
    "Possible Answers\r\n",
    "\r\n",
    "As the sample size increases, the mean of the sampling distribution decreases until it reaches the population mean.\r\n",
    "\r\n",
    "As the sample size increases, the mean of the sampling distribution increases until it reaches the population mean.\r\n",
    "\r\n",
    "Regardless of sample size, the mean of the sampling distribution is a close approximation to the population mean.\r\n",
    "\r\n",
    "Regardless of sample size, the mean of the sampling distribution is biased and cannot approximate the population mean.\r\n",
    "\r\n",
    "Option 3"
   ]
  },
  {
   "cell_type": "markdown",
   "metadata": {},
   "source": [
    "Population & sampling distribution variation\r\n",
    "You just calculated the mean of the sampling distribution and saw how it is an estimate of the corresponding population parameter. Similarly, as a result of the central limit theorem, the standard deviation of the sampling distribution has an interesting relationship with the population parameter's standard deviation and the sample size.\r\n",
    "\r\n",
    "attrition_pop, sampling_distribution_5, sampling_distribution_50, and sampling_distribution_500 are available; numpy is loaded with its usual alias.\r\n",
    "\r\n",
    "Instructions 1/2\r\n",
    "0 XP\r\n",
    "Calculate the standard deviation of sampling_distribution_5, sampling_distribution_50, and sampling_distribution_500 (a standard deviation of sample means).\r\n",
    "\r\n"
   ]
  },
  {
   "cell_type": "code",
   "execution_count": null,
   "metadata": {},
   "outputs": [],
   "source": [
    "# Calculate the std. dev. of the mean attritions for each sampling distribution\r\n",
    "sd_of_means_5 = np.std(sampling_distribution_5, ddof=1)\r\n",
    "sd_of_means_50 = np.std(sampling_distribution_50, ddof=1)\r\n",
    "sd_of_means_500 = np.std(sampling_distribution_500, ddof=1)\r\n",
    "\r\n",
    "# Print the results\r\n",
    "print(sd_of_means_5)\r\n",
    "print(sd_of_means_50)\r\n",
    "print(sd_of_means_500)"
   ]
  },
  {
   "cell_type": "markdown",
   "metadata": {},
   "source": [
    "Question\r\n",
    "How are the standard deviations of the sampling distributions related to the population standard deviation and the sample size?\r\n",
    "\r\n",
    "Possible Answers\r\n",
    "\r\n",
    "The standard deviation of the sampling distribution is approximately equal to the population standard deviation, regardless of sample size.\r\n",
    "\r\n",
    "The standard deviation of the sampling distribution is approximately equal to the population standard deviation multiplied by the sample size.\r\n",
    "\r\n",
    "The standard deviation of the sampling distribution is approximately equal to the population standard deviation multiplied by the square root of the sample size.\r\n",
    "\r\n",
    "The standard deviation of the sampling distribution is approximately equal to the population standard deviation divided by the sample size.\r\n",
    "\r\n",
    "The standard deviation of the sampling distribution is approximately equal to the population standard deviation divided by the square root of the sample size.\r\n",
    "\r\n",
    "option 4"
   ]
  }
 ],
 "metadata": {
  "language_info": {
   "name": "python",
   "nbconvert_exporter": "python"
  },
  "orig_nbformat": 4
 },
 "nbformat": 4,
 "nbformat_minor": 2
}