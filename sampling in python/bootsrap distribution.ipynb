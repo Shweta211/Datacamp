{
 "cells": [
  {
   "cell_type": "markdown",
   "metadata": {},
   "source": [
    "Generating a bootstrap distribution\r\n",
    "The process for generating a bootstrap distribution is similar to the process for generating a sampling distribution; only the first step is different.\r\n",
    "\r\n",
    "To make a sampling distribution, you start with the population and sample without replacement. To make a bootstrap distribution, you start with a sample and sample that with replacement. After that, the steps are the same: calculate the summary statistic that you are interested in on that sample/resample, then replicate the process many times. In each case, you can visualize the distribution with a histogram.\r\n",
    "\r\n",
    "Here, spotify_sample is a subset of the spotify_population dataset. To make it easier to see how resampling works, a row index column called 'index' has been added, and only the artist name, song name, and danceability columns have been included.\r\n",
    "\r\n",
    "spotify_sample is available; pandas, numpy, and matplotlib.pyplot are loaded with their usual aliases.\r\n",
    "\r\n",
    "Instructions 4/4\r\n",
    "25 XP\r\n",
    "Create a bootstrap distribution by drawing a histogram of mean_danceability_1000"
   ]
  },
  {
   "cell_type": "code",
   "execution_count": null,
   "metadata": {},
   "outputs": [],
   "source": [
    "# Replicate this 1000 times\r\n",
    "mean_danceability_1000 = []\r\n",
    "for i in range(1000):\r\n",
    "\tmean_danceability_1000.append(\r\n",
    "        np.mean(spotify_sample.sample(frac=1, replace=True)['danceability'])\r\n",
    "\t)\r\n",
    "\r\n",
    "# Draw a histogram of the resample means\r\n",
    "plt.hist(mean_danceability_1000)\r\n",
    "plt.show()"
   ]
  }
 ],
 "metadata": {
  "language_info": {
   "name": "python",
   "nbconvert_exporter": "python"
  },
  "orig_nbformat": 4
 },
 "nbformat": 4,
 "nbformat_minor": 2
}